{
 "cells": [
  {
   "cell_type": "code",
   "execution_count": 1,
   "metadata": {},
   "outputs": [],
   "source": [
    "import pandas as pd\n",
    "import numpy as np\n",
    "import os\n",
    "import random"
   ]
  },
  {
   "cell_type": "code",
   "execution_count": 15,
   "metadata": {},
   "outputs": [
    {
     "data": {
      "text/plain": [
       "True"
      ]
     },
     "execution_count": 15,
     "metadata": {},
     "output_type": "execute_result"
    }
   ],
   "source": [
    "has_path=os.path.exists\n",
    "data_root_dir='/Volumes/data2/Data/'\n",
    "has_path(data_root_dir)"
   ]
  },
  {
   "cell_type": "code",
   "execution_count": 10,
   "metadata": {},
   "outputs": [],
   "source": [
    "data_name = 'SOC6K'\n",
    "info_path = data_root_dir + 'DataSets/{}/info.csv'.format(data_name)"
   ]
  },
  {
   "cell_type": "code",
   "execution_count": 11,
   "metadata": {},
   "outputs": [
    {
     "data": {
      "text/plain": [
       "False"
      ]
     },
     "execution_count": 11,
     "metadata": {},
     "output_type": "execute_result"
    }
   ],
   "source": [
    "has_path(info_path)"
   ]
  },
  {
   "cell_type": "markdown",
   "metadata": {},
   "source": [
    "# 1 生成 info 文件"
   ]
  },
  {
   "cell_type": "code",
   "execution_count": 17,
   "metadata": {},
   "outputs": [
    {
     "data": {
      "text/plain": [
       "'/Volumes/data2/Data/DataSets/SOC6K/TrainSet/Imgs'"
      ]
     },
     "execution_count": 17,
     "metadata": {},
     "output_type": "execute_result"
    }
   ],
   "source": [
    "img_path = data_root_dir + 'DataSets/{}/{}'.format(\n",
    "    data_name, 'TrainSet/Imgs')\n",
    "img_path"
   ]
  },
  {
   "cell_type": "code",
   "execution_count": 20,
   "metadata": {},
   "outputs": [],
   "source": [
    "saliency_path = data_root_dir + 'DataSets/{}/{}'.format(\n",
    "    data_name, 'TrainSet/gt')"
   ]
  },
  {
   "cell_type": "code",
   "execution_count": 22,
   "metadata": {},
   "outputs": [],
   "source": [
    "instance_path = '/Volumes/data2/Data/DataSets/SOC6K/TrainSet/Instance gt/gt'"
   ]
  },
  {
   "cell_type": "code",
   "execution_count": 24,
   "metadata": {},
   "outputs": [
    {
     "data": {
      "text/plain": [
       "(True, True, True)"
      ]
     },
     "execution_count": 24,
     "metadata": {},
     "output_type": "execute_result"
    }
   ],
   "source": [
    "has_path(img_path), has_path(saliency_path), has_path(instance_path)"
   ]
  },
  {
   "cell_type": "markdown",
   "metadata": {},
   "source": [
    "### 获得所有图片的名字"
   ]
  },
  {
   "cell_type": "code",
   "execution_count": 25,
   "metadata": {},
   "outputs": [],
   "source": [
    "imgs =[ item for item in os.listdir(instance_path)]"
   ]
  },
  {
   "cell_type": "code",
   "execution_count": 26,
   "metadata": {},
   "outputs": [
    {
     "data": {
      "text/plain": [
       "4200"
      ]
     },
     "execution_count": 26,
     "metadata": {},
     "output_type": "execute_result"
    }
   ],
   "source": [
    "len(imgs)"
   ]
  },
  {
   "cell_type": "code",
   "execution_count": 27,
   "metadata": {},
   "outputs": [
    {
     "data": {
      "text/plain": [
       "4800"
      ]
     },
     "execution_count": 27,
     "metadata": {},
     "output_type": "execute_result"
    }
   ],
   "source": [
    "imgs =[ item for item in os.listdir(saliency_path)]\n",
    "len(imgs)"
   ]
  },
  {
   "cell_type": "code",
   "execution_count": 29,
   "metadata": {},
   "outputs": [
    {
     "data": {
      "text/plain": [
       "4800"
      ]
     },
     "execution_count": 29,
     "metadata": {},
     "output_type": "execute_result"
    }
   ],
   "source": [
    "imgs = [item for item in os.listdir(img_path)]\n",
    "len(imgs)"
   ]
  },
  {
   "cell_type": "code",
   "execution_count": 30,
   "metadata": {},
   "outputs": [
    {
     "data": {
      "text/plain": [
       "4200"
      ]
     },
     "execution_count": 30,
     "metadata": {},
     "output_type": "execute_result"
    }
   ],
   "source": [
    "imgs =[ item for item in os.listdir(instance_path)]\n",
    "len(imgs)"
   ]
  },
  {
   "cell_type": "markdown",
   "metadata": {},
   "source": [
    "## 拼接 img，salience and instance path"
   ]
  },
  {
   "cell_type": "code",
   "execution_count": 34,
   "metadata": {},
   "outputs": [
    {
     "name": "stdout",
     "output_type": "stream",
     "text": [
      "如果只输出这一句话， info dataframe 是正确的\n"
     ]
    }
   ],
   "source": [
    "items = []\n",
    "for img in imgs:\n",
    "    # img_name = '_'.join(img.split('_')[:-1]) # MIT1003\n",
    "    img_name = img.split('.')[0]\n",
    "    \n",
    "    cur_img_path = os.path.join(img_path, img_name+'.jpg')\n",
    "    cur_saliency_path = os.path.join(saliency_path, img_name+'.png')\n",
    "    cur_instance_path = os.path.join(instance_path, img_name+'.png')\n",
    "    \n",
    "    ## 检查拼接的路径\n",
    "    if not has_path(cur_img_path):\n",
    "        print(cur_img_path)\n",
    "        continue\n",
    "    if not has_path(cur_saliency_path):\n",
    "        print(cur_saliency_path)\n",
    "        continue\n",
    "    \n",
    "    if not has_path(cur_instance_path):\n",
    "        print(cur_instance_path)\n",
    "        continue\n",
    "    \n",
    "    change = lambda x: '/'.join(x.split('/')[len(data_root_dir.split('/'))-1:])\n",
    "    \n",
    "    cur_img_path = change(cur_img_path)\n",
    "    cur_saliency_path = change(cur_saliency_path)\n",
    "    cur_instance_path = change(cur_instance_path)\n",
    "    \n",
    "    items.append(\n",
    "        [cur_img_path, cur_saliency_path, cur_instance_path]\n",
    "    )\n",
    "print('如果只输出这一句话， info dataframe 是正确的')"
   ]
  },
  {
   "cell_type": "markdown",
   "metadata": {},
   "source": [
    "# 2 检查生成的路径"
   ]
  },
  {
   "cell_type": "code",
   "execution_count": 36,
   "metadata": {},
   "outputs": [
    {
     "data": {
      "text/plain": [
       "['DataSets/SOC6K/TrainSet/Imgs/COCO_train2014_000000000089.jpg',\n",
       " 'DataSets/SOC6K/TrainSet/gt/COCO_train2014_000000000089.png',\n",
       " 'DataSets/SOC6K/TrainSet/Instance gt/gt/COCO_train2014_000000000089.png']"
      ]
     },
     "execution_count": 36,
     "metadata": {},
     "output_type": "execute_result"
    }
   ],
   "source": [
    "items[0]"
   ]
  },
  {
   "cell_type": "code",
   "execution_count": 37,
   "metadata": {},
   "outputs": [
    {
     "name": "stdout",
     "output_type": "stream",
     "text": [
      "如果只输出这一句话， info dataframe 是正确的\n"
     ]
    }
   ],
   "source": [
    "for i in range(len(items)):\n",
    "    for j in range(len(items[i])):\n",
    "        if not has_path(os.path.join(\n",
    "            data_root_dir, items[i][j]\n",
    "        )):\n",
    "            print(items[i][j])\n",
    "print('如果只输出这一句话， info dataframe 是正确的')"
   ]
  },
  {
   "cell_type": "code",
   "execution_count": 39,
   "metadata": {},
   "outputs": [],
   "source": [
    "df = pd.DataFrame(items, columns=['img', 'saliency', 'instance'])"
   ]
  },
  {
   "cell_type": "code",
   "execution_count": 40,
   "metadata": {},
   "outputs": [
    {
     "data": {
      "text/html": [
       "<div>\n",
       "<style scoped>\n",
       "    .dataframe tbody tr th:only-of-type {\n",
       "        vertical-align: middle;\n",
       "    }\n",
       "\n",
       "    .dataframe tbody tr th {\n",
       "        vertical-align: top;\n",
       "    }\n",
       "\n",
       "    .dataframe thead th {\n",
       "        text-align: right;\n",
       "    }\n",
       "</style>\n",
       "<table border=\"1\" class=\"dataframe\">\n",
       "  <thead>\n",
       "    <tr style=\"text-align: right;\">\n",
       "      <th></th>\n",
       "      <th>img</th>\n",
       "      <th>saliency</th>\n",
       "      <th>instance</th>\n",
       "    </tr>\n",
       "  </thead>\n",
       "  <tbody>\n",
       "    <tr>\n",
       "      <th>0</th>\n",
       "      <td>DataSets/SOC6K/TrainSet/Imgs/COCO_train2014_00...</td>\n",
       "      <td>DataSets/SOC6K/TrainSet/gt/COCO_train2014_0000...</td>\n",
       "      <td>DataSets/SOC6K/TrainSet/Instance gt/gt/COCO_tr...</td>\n",
       "    </tr>\n",
       "    <tr>\n",
       "      <th>1</th>\n",
       "      <td>DataSets/SOC6K/TrainSet/Imgs/COCO_train2014_00...</td>\n",
       "      <td>DataSets/SOC6K/TrainSet/gt/COCO_train2014_0000...</td>\n",
       "      <td>DataSets/SOC6K/TrainSet/Instance gt/gt/COCO_tr...</td>\n",
       "    </tr>\n",
       "    <tr>\n",
       "      <th>2</th>\n",
       "      <td>DataSets/SOC6K/TrainSet/Imgs/COCO_train2014_00...</td>\n",
       "      <td>DataSets/SOC6K/TrainSet/gt/COCO_train2014_0000...</td>\n",
       "      <td>DataSets/SOC6K/TrainSet/Instance gt/gt/COCO_tr...</td>\n",
       "    </tr>\n",
       "    <tr>\n",
       "      <th>3</th>\n",
       "      <td>DataSets/SOC6K/TrainSet/Imgs/COCO_train2014_00...</td>\n",
       "      <td>DataSets/SOC6K/TrainSet/gt/COCO_train2014_0000...</td>\n",
       "      <td>DataSets/SOC6K/TrainSet/Instance gt/gt/COCO_tr...</td>\n",
       "    </tr>\n",
       "    <tr>\n",
       "      <th>4</th>\n",
       "      <td>DataSets/SOC6K/TrainSet/Imgs/COCO_train2014_00...</td>\n",
       "      <td>DataSets/SOC6K/TrainSet/gt/COCO_train2014_0000...</td>\n",
       "      <td>DataSets/SOC6K/TrainSet/Instance gt/gt/COCO_tr...</td>\n",
       "    </tr>\n",
       "  </tbody>\n",
       "</table>\n",
       "</div>"
      ],
      "text/plain": [
       "                                                 img  \\\n",
       "0  DataSets/SOC6K/TrainSet/Imgs/COCO_train2014_00...   \n",
       "1  DataSets/SOC6K/TrainSet/Imgs/COCO_train2014_00...   \n",
       "2  DataSets/SOC6K/TrainSet/Imgs/COCO_train2014_00...   \n",
       "3  DataSets/SOC6K/TrainSet/Imgs/COCO_train2014_00...   \n",
       "4  DataSets/SOC6K/TrainSet/Imgs/COCO_train2014_00...   \n",
       "\n",
       "                                            saliency  \\\n",
       "0  DataSets/SOC6K/TrainSet/gt/COCO_train2014_0000...   \n",
       "1  DataSets/SOC6K/TrainSet/gt/COCO_train2014_0000...   \n",
       "2  DataSets/SOC6K/TrainSet/gt/COCO_train2014_0000...   \n",
       "3  DataSets/SOC6K/TrainSet/gt/COCO_train2014_0000...   \n",
       "4  DataSets/SOC6K/TrainSet/gt/COCO_train2014_0000...   \n",
       "\n",
       "                                            instance  \n",
       "0  DataSets/SOC6K/TrainSet/Instance gt/gt/COCO_tr...  \n",
       "1  DataSets/SOC6K/TrainSet/Instance gt/gt/COCO_tr...  \n",
       "2  DataSets/SOC6K/TrainSet/Instance gt/gt/COCO_tr...  \n",
       "3  DataSets/SOC6K/TrainSet/Instance gt/gt/COCO_tr...  \n",
       "4  DataSets/SOC6K/TrainSet/Instance gt/gt/COCO_tr...  "
      ]
     },
     "execution_count": 40,
     "metadata": {},
     "output_type": "execute_result"
    }
   ],
   "source": [
    "df.head()"
   ]
  },
  {
   "cell_type": "code",
   "execution_count": 41,
   "metadata": {},
   "outputs": [],
   "source": [
    "df.to_csv(info_path, index=False)"
   ]
  },
  {
   "cell_type": "markdown",
   "metadata": {},
   "source": [
    "# 3 生成  train valid test csv"
   ]
  },
  {
   "cell_type": "code",
   "execution_count": 42,
   "metadata": {},
   "outputs": [
    {
     "data": {
      "text/html": [
       "<div>\n",
       "<style scoped>\n",
       "    .dataframe tbody tr th:only-of-type {\n",
       "        vertical-align: middle;\n",
       "    }\n",
       "\n",
       "    .dataframe tbody tr th {\n",
       "        vertical-align: top;\n",
       "    }\n",
       "\n",
       "    .dataframe thead th {\n",
       "        text-align: right;\n",
       "    }\n",
       "</style>\n",
       "<table border=\"1\" class=\"dataframe\">\n",
       "  <thead>\n",
       "    <tr style=\"text-align: right;\">\n",
       "      <th></th>\n",
       "      <th>img</th>\n",
       "      <th>saliency</th>\n",
       "      <th>instance</th>\n",
       "    </tr>\n",
       "  </thead>\n",
       "  <tbody>\n",
       "    <tr>\n",
       "      <th>0</th>\n",
       "      <td>DataSets/SOC6K/TrainSet/Imgs/COCO_train2014_00...</td>\n",
       "      <td>DataSets/SOC6K/TrainSet/gt/COCO_train2014_0000...</td>\n",
       "      <td>DataSets/SOC6K/TrainSet/Instance gt/gt/COCO_tr...</td>\n",
       "    </tr>\n",
       "    <tr>\n",
       "      <th>1</th>\n",
       "      <td>DataSets/SOC6K/TrainSet/Imgs/COCO_train2014_00...</td>\n",
       "      <td>DataSets/SOC6K/TrainSet/gt/COCO_train2014_0000...</td>\n",
       "      <td>DataSets/SOC6K/TrainSet/Instance gt/gt/COCO_tr...</td>\n",
       "    </tr>\n",
       "    <tr>\n",
       "      <th>2</th>\n",
       "      <td>DataSets/SOC6K/TrainSet/Imgs/COCO_train2014_00...</td>\n",
       "      <td>DataSets/SOC6K/TrainSet/gt/COCO_train2014_0000...</td>\n",
       "      <td>DataSets/SOC6K/TrainSet/Instance gt/gt/COCO_tr...</td>\n",
       "    </tr>\n",
       "    <tr>\n",
       "      <th>3</th>\n",
       "      <td>DataSets/SOC6K/TrainSet/Imgs/COCO_train2014_00...</td>\n",
       "      <td>DataSets/SOC6K/TrainSet/gt/COCO_train2014_0000...</td>\n",
       "      <td>DataSets/SOC6K/TrainSet/Instance gt/gt/COCO_tr...</td>\n",
       "    </tr>\n",
       "    <tr>\n",
       "      <th>4</th>\n",
       "      <td>DataSets/SOC6K/TrainSet/Imgs/COCO_train2014_00...</td>\n",
       "      <td>DataSets/SOC6K/TrainSet/gt/COCO_train2014_0000...</td>\n",
       "      <td>DataSets/SOC6K/TrainSet/Instance gt/gt/COCO_tr...</td>\n",
       "    </tr>\n",
       "  </tbody>\n",
       "</table>\n",
       "</div>"
      ],
      "text/plain": [
       "                                                 img  \\\n",
       "0  DataSets/SOC6K/TrainSet/Imgs/COCO_train2014_00...   \n",
       "1  DataSets/SOC6K/TrainSet/Imgs/COCO_train2014_00...   \n",
       "2  DataSets/SOC6K/TrainSet/Imgs/COCO_train2014_00...   \n",
       "3  DataSets/SOC6K/TrainSet/Imgs/COCO_train2014_00...   \n",
       "4  DataSets/SOC6K/TrainSet/Imgs/COCO_train2014_00...   \n",
       "\n",
       "                                            saliency  \\\n",
       "0  DataSets/SOC6K/TrainSet/gt/COCO_train2014_0000...   \n",
       "1  DataSets/SOC6K/TrainSet/gt/COCO_train2014_0000...   \n",
       "2  DataSets/SOC6K/TrainSet/gt/COCO_train2014_0000...   \n",
       "3  DataSets/SOC6K/TrainSet/gt/COCO_train2014_0000...   \n",
       "4  DataSets/SOC6K/TrainSet/gt/COCO_train2014_0000...   \n",
       "\n",
       "                                            instance  \n",
       "0  DataSets/SOC6K/TrainSet/Instance gt/gt/COCO_tr...  \n",
       "1  DataSets/SOC6K/TrainSet/Instance gt/gt/COCO_tr...  \n",
       "2  DataSets/SOC6K/TrainSet/Instance gt/gt/COCO_tr...  \n",
       "3  DataSets/SOC6K/TrainSet/Instance gt/gt/COCO_tr...  \n",
       "4  DataSets/SOC6K/TrainSet/Instance gt/gt/COCO_tr...  "
      ]
     },
     "execution_count": 42,
     "metadata": {},
     "output_type": "execute_result"
    }
   ],
   "source": [
    "df = pd.read_csv(info_path)\n",
    "df.head()"
   ]
  },
  {
   "cell_type": "code",
   "execution_count": 43,
   "metadata": {},
   "outputs": [],
   "source": [
    "nums = len(df)\n",
    "shuffle_index = random.sample(range(nums), nums)"
   ]
  },
  {
   "cell_type": "code",
   "execution_count": 44,
   "metadata": {},
   "outputs": [
    {
     "data": {
      "text/plain": [
       "4200"
      ]
     },
     "execution_count": 44,
     "metadata": {},
     "output_type": "execute_result"
    }
   ],
   "source": [
    "nums"
   ]
  },
  {
   "cell_type": "code",
   "execution_count": 49,
   "metadata": {},
   "outputs": [],
   "source": [
    "train_num = int(0)\n",
    "valid_num = int(0)"
   ]
  },
  {
   "cell_type": "code",
   "execution_count": 50,
   "metadata": {},
   "outputs": [],
   "source": [
    "df_train = df.iloc[:train_num, :]\n",
    "df_valid = df.iloc[train_num:train_num+valid_num, :]\n",
    "df_test = df.iloc[train_num+valid_num:, :]"
   ]
  },
  {
   "cell_type": "code",
   "execution_count": 51,
   "metadata": {},
   "outputs": [
    {
     "data": {
      "text/plain": [
       "(0, 0, 4200)"
      ]
     },
     "execution_count": 51,
     "metadata": {},
     "output_type": "execute_result"
    }
   ],
   "source": [
    "len(df_train), len(df_valid), len(df_test)"
   ]
  },
  {
   "cell_type": "code",
   "execution_count": 52,
   "metadata": {},
   "outputs": [
    {
     "data": {
      "text/html": [
       "<div>\n",
       "<style scoped>\n",
       "    .dataframe tbody tr th:only-of-type {\n",
       "        vertical-align: middle;\n",
       "    }\n",
       "\n",
       "    .dataframe tbody tr th {\n",
       "        vertical-align: top;\n",
       "    }\n",
       "\n",
       "    .dataframe thead th {\n",
       "        text-align: right;\n",
       "    }\n",
       "</style>\n",
       "<table border=\"1\" class=\"dataframe\">\n",
       "  <thead>\n",
       "    <tr style=\"text-align: right;\">\n",
       "      <th></th>\n",
       "      <th>img</th>\n",
       "      <th>saliency</th>\n",
       "      <th>instance</th>\n",
       "    </tr>\n",
       "  </thead>\n",
       "  <tbody>\n",
       "  </tbody>\n",
       "</table>\n",
       "</div>"
      ],
      "text/plain": [
       "Empty DataFrame\n",
       "Columns: [img, saliency, instance]\n",
       "Index: []"
      ]
     },
     "execution_count": 52,
     "metadata": {},
     "output_type": "execute_result"
    }
   ],
   "source": [
    "df_train.head()"
   ]
  },
  {
   "cell_type": "code",
   "execution_count": 53,
   "metadata": {},
   "outputs": [],
   "source": [
    "data_csv_dir = os.path.join(data_root_dir,\n",
    "                           'CSVs', data_name)\n",
    "if not os.path.exists(data_csv_dir):\n",
    "    os.makedirs(data_csv_dir)"
   ]
  },
  {
   "cell_type": "code",
   "execution_count": 54,
   "metadata": {},
   "outputs": [
    {
     "data": {
      "text/plain": [
       "'/Volumes/data2/Data/CSVs/SOC6K'"
      ]
     },
     "execution_count": 54,
     "metadata": {},
     "output_type": "execute_result"
    }
   ],
   "source": [
    "data_csv_dir"
   ]
  },
  {
   "cell_type": "code",
   "execution_count": 55,
   "metadata": {},
   "outputs": [],
   "source": [
    "save_csv = lambda df, phase: df.to_csv(\n",
    "            data_root_dir + 'CSVs/'+data_name+'/'+phase+'.csv', index=False\n",
    ")"
   ]
  },
  {
   "cell_type": "code",
   "execution_count": 56,
   "metadata": {},
   "outputs": [],
   "source": [
    "if not has_path('CSVs/'+data_name):\n",
    "    os.makedirs('CSVs/'+data_name)\n",
    "save_csv(df_train, 'train')\n",
    "save_csv(df_valid, 'valid')\n",
    "save_csv(df_test, 'test')"
   ]
  },
  {
   "cell_type": "code",
   "execution_count": null,
   "metadata": {},
   "outputs": [],
   "source": []
  }
 ],
 "metadata": {
  "kernelspec": {
   "display_name": "Python 3",
   "language": "python",
   "name": "python3"
  },
  "language_info": {
   "codemirror_mode": {
    "name": "ipython",
    "version": 3
   },
   "file_extension": ".py",
   "mimetype": "text/x-python",
   "name": "python",
   "nbconvert_exporter": "python",
   "pygments_lexer": "ipython3",
   "version": "3.7.3"
  },
  "toc": {
   "base_numbering": 1,
   "nav_menu": {},
   "number_sections": true,
   "sideBar": true,
   "skip_h1_title": false,
   "title_cell": "Table of Contents",
   "title_sidebar": "Contents",
   "toc_cell": false,
   "toc_position": {},
   "toc_section_display": true,
   "toc_window_display": false
  }
 },
 "nbformat": 4,
 "nbformat_minor": 2
}
