{
 "cells": [
  {
   "cell_type": "code",
   "execution_count": 1,
   "metadata": {},
   "outputs": [],
   "source": [
    "import pandas as pd\n",
    "import numpy as np\n",
    "import os\n",
    "import random\n",
    "from glob import glob"
   ]
  },
  {
   "cell_type": "code",
   "execution_count": 2,
   "metadata": {},
   "outputs": [],
   "source": [
    "has_path=os.path.exists"
   ]
  },
  {
   "cell_type": "code",
   "execution_count": 3,
   "metadata": {},
   "outputs": [],
   "source": [
    "data_name = 'SALICON'\n",
    "data_root_dir = '/media/he/data2/Data/'\n",
    "info_path = data_root_dir + 'DataSets/{}/info.csv'.format(data_name)"
   ]
  },
  {
   "cell_type": "code",
   "execution_count": 4,
   "metadata": {},
   "outputs": [
    {
     "data": {
      "text/plain": [
       "False"
      ]
     },
     "execution_count": 4,
     "metadata": {},
     "output_type": "execute_result"
    }
   ],
   "source": [
    "has_path(info_path)"
   ]
  },
  {
   "cell_type": "markdown",
   "metadata": {},
   "source": [
    "### 定义 img， label，fixation 的路径"
   ]
  },
  {
   "cell_type": "code",
   "execution_count": 5,
   "metadata": {},
   "outputs": [],
   "source": [
    "phase = '/test'"
   ]
  },
  {
   "cell_type": "code",
   "execution_count": 6,
   "metadata": {},
   "outputs": [],
   "source": [
    "img_path = data_root_dir + 'DataSets/{}/{}'.format(\n",
    "    data_name, 'images') + phase\n",
    "label_path =  data_root_dir + 'DataSets/{}/{}'.format(\n",
    "    data_name, 'maps') + phase\n",
    "fixation_path =  data_root_dir + 'DataSets/{}/{}'.format(\n",
    "    data_name, 'fixations_imgs') + phase"
   ]
  },
  {
   "cell_type": "code",
   "execution_count": 7,
   "metadata": {},
   "outputs": [
    {
     "data": {
      "text/plain": [
       "(True, False, False)"
      ]
     },
     "execution_count": 7,
     "metadata": {},
     "output_type": "execute_result"
    }
   ],
   "source": [
    "has_path(img_path), has_path(label_path), has_path(fixation_path)"
   ]
  },
  {
   "cell_type": "markdown",
   "metadata": {},
   "source": [
    "# 1 生成fixation info 文件"
   ]
  },
  {
   "cell_type": "markdown",
   "metadata": {},
   "source": [
    "### 获得所有图片的名字"
   ]
  },
  {
   "cell_type": "code",
   "execution_count": 14,
   "metadata": {},
   "outputs": [
    {
     "data": {
      "text/plain": [
       "(5000, 0, 0)"
      ]
     },
     "execution_count": 14,
     "metadata": {},
     "output_type": "execute_result"
    }
   ],
   "source": [
    "img_file = '/*.*'\n",
    "len(glob(img_path + img_file)), len(glob(label_path + img_file)), len(glob(fixation_path+img_file))"
   ]
  },
  {
   "cell_type": "markdown",
   "metadata": {},
   "source": [
    "## 拼接 img，label，fixation 的路劲"
   ]
  },
  {
   "cell_type": "code",
   "execution_count": 11,
   "metadata": {},
   "outputs": [],
   "source": [
    "just_img = True"
   ]
  },
  {
   "cell_type": "code",
   "execution_count": 12,
   "metadata": {},
   "outputs": [
    {
     "data": {
      "text/plain": [
       "5000"
      ]
     },
     "execution_count": 12,
     "metadata": {},
     "output_type": "execute_result"
    }
   ],
   "source": [
    "if just_img:\n",
    "    imgs =[ item for item in os.listdir(img_path) if not item.startswith('.')]\n",
    "else:\n",
    "    imgs =[ item for item in os.listdir(label_path) if not item.startswith('.')]\n",
    "len(imgs)"
   ]
  },
  {
   "cell_type": "code",
   "execution_count": 13,
   "metadata": {},
   "outputs": [
    {
     "name": "stdout",
     "output_type": "stream",
     "text": [
      "如果只输出这一句话， info dataframe 是正确的\n"
     ]
    }
   ],
   "source": [
    "items = []\n",
    "for img in imgs:\n",
    "    # print(img)\n",
    "    # img_name = '_'.join(img.split('_')[:-1]) # MIT1003\n",
    "    img_name = img.split('.')[0]\n",
    "    \n",
    "    cur_img_path = os.path.join(img_path, img_name+'.jpg')\n",
    "    cur_label_path = os.path.join(label_path, img_name+'.png')\n",
    "    cur_fixation_path = os.path.join(fixation_path, img_name+'.png')\n",
    "    \n",
    "    ## 检查拼接的路径\n",
    "    if not has_path(cur_img_path):\n",
    "        print(cur_img_path)\n",
    "        continue\n",
    "    \n",
    "    if not just_img:\n",
    "        if not has_path(cur_label_path):\n",
    "            print(cur_label_path)\n",
    "            continue\n",
    "        if not has_path(cur_fixation_path):\n",
    "            print(cur_fixation_path)\n",
    "            continue\n",
    "\n",
    "    change = lambda x: '/'.join(x.split('/')[len(data_root_dir.split('/'))-1:])\n",
    "    \n",
    "    cur_img_path = change(cur_img_path)\n",
    "    \n",
    "    if not just_img:\n",
    "        cur_label_path = change(cur_label_path)\n",
    "        cur_fixation_path = change(cur_fixation_path) \n",
    "    \n",
    "        items.append(\n",
    "            [cur_img_path, cur_label_path, cur_fixation_path]\n",
    "        )\n",
    "    else:\n",
    "        items.append(\n",
    "            [cur_img_path]\n",
    "        )\n",
    "print('如果只输出这一句话， info dataframe 是正确的')"
   ]
  },
  {
   "cell_type": "markdown",
   "metadata": {},
   "source": [
    "# 2 检查生成的路径"
   ]
  },
  {
   "cell_type": "code",
   "execution_count": 15,
   "metadata": {},
   "outputs": [
    {
     "data": {
      "text/plain": [
       "'DataSets/SALICON/images/test/COCO_test2014_000000013695.jpg'"
      ]
     },
     "execution_count": 15,
     "metadata": {},
     "output_type": "execute_result"
    }
   ],
   "source": [
    "items[0][0]"
   ]
  },
  {
   "cell_type": "code",
   "execution_count": 16,
   "metadata": {},
   "outputs": [
    {
     "name": "stdout",
     "output_type": "stream",
     "text": [
      "如果只输出这一句话， info dataframe 是正确的\n"
     ]
    }
   ],
   "source": [
    "for i in range(len(items)):\n",
    "    for j in range(len(items[i])):\n",
    "        if not has_path(os.path.join(\n",
    "            data_root_dir, items[i][j]\n",
    "        )):\n",
    "            print(items[i][j])\n",
    "print('如果只输出这一句话， info dataframe 是正确的')"
   ]
  },
  {
   "cell_type": "code",
   "execution_count": 17,
   "metadata": {},
   "outputs": [],
   "source": [
    "if not just_img:\n",
    "    df = pd.DataFrame(items, columns=['img', 'saliency', 'fixation'])\n",
    "else:\n",
    "    df = pd.DataFrame(items, columns=['img'])"
   ]
  },
  {
   "cell_type": "code",
   "execution_count": 18,
   "metadata": {},
   "outputs": [
    {
     "data": {
      "text/html": [
       "<div>\n",
       "<style scoped>\n",
       "    .dataframe tbody tr th:only-of-type {\n",
       "        vertical-align: middle;\n",
       "    }\n",
       "\n",
       "    .dataframe tbody tr th {\n",
       "        vertical-align: top;\n",
       "    }\n",
       "\n",
       "    .dataframe thead th {\n",
       "        text-align: right;\n",
       "    }\n",
       "</style>\n",
       "<table border=\"1\" class=\"dataframe\">\n",
       "  <thead>\n",
       "    <tr style=\"text-align: right;\">\n",
       "      <th></th>\n",
       "      <th>img</th>\n",
       "    </tr>\n",
       "  </thead>\n",
       "  <tbody>\n",
       "    <tr>\n",
       "      <th>0</th>\n",
       "      <td>DataSets/SALICON/images/test/COCO_test2014_000...</td>\n",
       "    </tr>\n",
       "    <tr>\n",
       "      <th>1</th>\n",
       "      <td>DataSets/SALICON/images/test/COCO_test2014_000...</td>\n",
       "    </tr>\n",
       "    <tr>\n",
       "      <th>2</th>\n",
       "      <td>DataSets/SALICON/images/test/COCO_test2014_000...</td>\n",
       "    </tr>\n",
       "    <tr>\n",
       "      <th>3</th>\n",
       "      <td>DataSets/SALICON/images/test/COCO_test2014_000...</td>\n",
       "    </tr>\n",
       "    <tr>\n",
       "      <th>4</th>\n",
       "      <td>DataSets/SALICON/images/test/COCO_test2014_000...</td>\n",
       "    </tr>\n",
       "  </tbody>\n",
       "</table>\n",
       "</div>"
      ],
      "text/plain": [
       "                                                 img\n",
       "0  DataSets/SALICON/images/test/COCO_test2014_000...\n",
       "1  DataSets/SALICON/images/test/COCO_test2014_000...\n",
       "2  DataSets/SALICON/images/test/COCO_test2014_000...\n",
       "3  DataSets/SALICON/images/test/COCO_test2014_000...\n",
       "4  DataSets/SALICON/images/test/COCO_test2014_000..."
      ]
     },
     "execution_count": 18,
     "metadata": {},
     "output_type": "execute_result"
    }
   ],
   "source": [
    "df.head()"
   ]
  },
  {
   "cell_type": "code",
   "execution_count": 19,
   "metadata": {},
   "outputs": [],
   "source": [
    "df.to_csv(info_path.replace('info', 'test'), index=False)"
   ]
  },
  {
   "cell_type": "markdown",
   "metadata": {},
   "source": [
    "# 3 生成 train valid test csv"
   ]
  },
  {
   "cell_type": "code",
   "execution_count": null,
   "metadata": {},
   "outputs": [],
   "source": [
    "nums = len(df)"
   ]
  },
  {
   "cell_type": "code",
   "execution_count": null,
   "metadata": {},
   "outputs": [],
   "source": [
    "shuffle_index = random.sample(range(nums), nums)"
   ]
  },
  {
   "cell_type": "code",
   "execution_count": null,
   "metadata": {},
   "outputs": [],
   "source": [
    "train_num = int(nums*0.6)\n",
    "valid_num = int(nums*0.2)"
   ]
  },
  {
   "cell_type": "code",
   "execution_count": null,
   "metadata": {},
   "outputs": [],
   "source": [
    "df_train = df.iloc[:train_num, :]\n",
    "df_valid = df.iloc[train_num:train_num+valid_num, :]\n",
    "df_test = df.iloc[train_num+valid_num:, :]"
   ]
  },
  {
   "cell_type": "code",
   "execution_count": null,
   "metadata": {},
   "outputs": [],
   "source": [
    "len(df_train), len(df_valid), len(df_test)"
   ]
  },
  {
   "cell_type": "code",
   "execution_count": null,
   "metadata": {},
   "outputs": [],
   "source": [
    "df_train.head()"
   ]
  },
  {
   "cell_type": "code",
   "execution_count": null,
   "metadata": {},
   "outputs": [],
   "source": [
    "data_csv_dir = os.path.join(data_root_dir,\n",
    "                           'CSVs', data_name)\n",
    "if not os.path.exists(data_csv_dir):\n",
    "    os.makedirs(data_csv_dir)"
   ]
  },
  {
   "cell_type": "code",
   "execution_count": null,
   "metadata": {},
   "outputs": [],
   "source": [
    "save_csv = lambda df, phase: df.to_csv(\n",
    "            data_root_dir + 'CSVs/'+data_name+'/'+phase+'.csv', index=False\n",
    ")"
   ]
  },
  {
   "cell_type": "code",
   "execution_count": null,
   "metadata": {},
   "outputs": [],
   "source": [
    "if not has_path('CSVs/'+data_name):\n",
    "    os.makedirs('CSVs/'+data_name)\n",
    "save_csv(df_train, 'train')\n",
    "save_csv(df_valid, 'valid')\n",
    "save_csv(df_test, 'test')"
   ]
  }
 ],
 "metadata": {
  "kernelspec": {
   "display_name": "Python 3",
   "language": "python",
   "name": "python3"
  },
  "language_info": {
   "codemirror_mode": {
    "name": "ipython",
    "version": 3
   },
   "file_extension": ".py",
   "mimetype": "text/x-python",
   "name": "python",
   "nbconvert_exporter": "python",
   "pygments_lexer": "ipython3",
   "version": "3.6.9"
  },
  "toc": {
   "base_numbering": 1,
   "nav_menu": {},
   "number_sections": true,
   "sideBar": true,
   "skip_h1_title": false,
   "title_cell": "Table of Contents",
   "title_sidebar": "Contents",
   "toc_cell": false,
   "toc_position": {},
   "toc_section_display": true,
   "toc_window_display": false
  }
 },
 "nbformat": 4,
 "nbformat_minor": 2
}
