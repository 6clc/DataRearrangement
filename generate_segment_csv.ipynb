{
 "cells": [
  {
   "cell_type": "code",
   "execution_count": 1,
   "metadata": {},
   "outputs": [],
   "source": [
    "import pandas as pd\n",
    "import numpy as np\n",
    "import os\n",
    "import random"
   ]
  },
  {
   "cell_type": "code",
   "execution_count": 2,
   "metadata": {},
   "outputs": [],
   "source": [
    "has_path=os.path.exists\n",
    "data_root_dir='/home/hanshan/Data/DataCV'"
   ]
  },
  {
   "cell_type": "code",
   "execution_count": 3,
   "metadata": {},
   "outputs": [],
   "source": [
    "data_name = 'understanding_cloud_organization'\n",
    "info_path = f'{data_root_dir}/DataSets/{data_name}/info.csv'"
   ]
  },
  {
   "cell_type": "code",
   "execution_count": 4,
   "metadata": {},
   "outputs": [
    {
     "data": {
      "text/plain": [
       "True"
      ]
     },
     "execution_count": 4,
     "metadata": {},
     "output_type": "execute_result"
    }
   ],
   "source": [
    "has_path(info_path)"
   ]
  },
  {
   "cell_type": "markdown",
   "metadata": {},
   "source": [
    "### 定义 img， segment 的路径"
   ]
  },
  {
   "cell_type": "code",
   "execution_count": 5,
   "metadata": {},
   "outputs": [
    {
     "data": {
      "text/plain": [
       "('/home/hanshan/Data/DataCV/DataSets/understanding_cloud_organization/train_images',\n",
       " '/home/hanshan/Data/DataCV/DataSets/understanding_cloud_organization/train_gts')"
      ]
     },
     "execution_count": 5,
     "metadata": {},
     "output_type": "execute_result"
    }
   ],
   "source": [
    "img_path = f'{data_root_dir}/DataSets/{data_name}/train_images'\n",
    "segment_path = f'{data_root_dir}/DataSets/{data_name}/train_gts'\n",
    "img_path, segment_path"
   ]
  },
  {
   "cell_type": "code",
   "execution_count": 6,
   "metadata": {},
   "outputs": [
    {
     "data": {
      "text/plain": [
       "(True, True)"
      ]
     },
     "execution_count": 6,
     "metadata": {},
     "output_type": "execute_result"
    }
   ],
   "source": [
    "has_path(img_path), has_path(segment_path)"
   ]
  },
  {
   "cell_type": "markdown",
   "metadata": {},
   "source": [
    "# 1 生成 info 文件"
   ]
  },
  {
   "cell_type": "markdown",
   "metadata": {},
   "source": [
    "### 获得所有图片的名字"
   ]
  },
  {
   "cell_type": "code",
   "execution_count": null,
   "metadata": {},
   "outputs": [],
   "source": [
    "imgs =[ item for item in os.listdir(segment_path)]"
   ]
  },
  {
   "cell_type": "code",
   "execution_count": null,
   "metadata": {},
   "outputs": [],
   "source": [
    "len(imgs)"
   ]
  },
  {
   "cell_type": "markdown",
   "metadata": {},
   "source": [
    "## 拼接 img，segment  path"
   ]
  },
  {
   "cell_type": "code",
   "execution_count": null,
   "metadata": {},
   "outputs": [],
   "source": [
    "items = []\n",
    "for img in imgs:\n",
    "    # img_name = '_'.join(img.split('_')[:-1]) # MIT1003\n",
    "    img_name = img.split('.')[0]\n",
    "    \n",
    "    cur_img_path = os.path.join(img_path, img_name+'.jpg')\n",
    "    cur_segment_path = os.path.join(segment_path, img_name+'.png')\n",
    "    \n",
    "    ## 检查拼接的路径\n",
    "    if not has_path(cur_img_path):\n",
    "        print(cur_img_path)\n",
    "        continue\n",
    "    if not has_path(cur_segment_path):\n",
    "        print(cur_segment_path)\n",
    "        continue\n",
    "    \n",
    "    change = lambda x: '/'.join(x.split('/')[len(data_root_dir.split('/')):])\n",
    "    \n",
    "    cur_img_path = change(cur_img_path)\n",
    "    cur_segment_path = change(cur_segment_path)\n",
    "    \n",
    "    items.append(\n",
    "        [cur_img_path, cur_segment_path]\n",
    "    )\n",
    "print('如果只输出这一句话， info dataframe 是正确的')"
   ]
  },
  {
   "cell_type": "markdown",
   "metadata": {},
   "source": [
    "# 2 检查生成的路径"
   ]
  },
  {
   "cell_type": "code",
   "execution_count": null,
   "metadata": {},
   "outputs": [],
   "source": [
    "items[0][0]"
   ]
  },
  {
   "cell_type": "code",
   "execution_count": null,
   "metadata": {},
   "outputs": [],
   "source": [
    "for i in range(len(items)):\n",
    "    for j in range(len(items[i])):\n",
    "        if not has_path(os.path.join(\n",
    "            data_root_dir, items[i][j]\n",
    "        )):\n",
    "            print(items[i][j])\n",
    "print('如果只输出这一句话， info dataframe 是正确的')"
   ]
  },
  {
   "cell_type": "code",
   "execution_count": null,
   "metadata": {},
   "outputs": [],
   "source": [
    "df = pd.DataFrame(items, columns=['img', 'segment'])"
   ]
  },
  {
   "cell_type": "code",
   "execution_count": null,
   "metadata": {},
   "outputs": [],
   "source": [
    "df.head()"
   ]
  },
  {
   "cell_type": "code",
   "execution_count": null,
   "metadata": {},
   "outputs": [],
   "source": [
    "df.to_csv(info_path, index=False)"
   ]
  },
  {
   "cell_type": "markdown",
   "metadata": {},
   "source": [
    "# 3 生成  train valid csv"
   ]
  },
  {
   "cell_type": "code",
   "execution_count": null,
   "metadata": {},
   "outputs": [],
   "source": [
    "df = pd.read_csv(info_path)\n",
    "df.head()"
   ]
  },
  {
   "cell_type": "code",
   "execution_count": null,
   "metadata": {},
   "outputs": [],
   "source": [
    "nums = len(df)\n",
    "shuffle_index = random.sample(range(nums), nums)"
   ]
  },
  {
   "cell_type": "code",
   "execution_count": null,
   "metadata": {},
   "outputs": [],
   "source": [
    "train_num = int(nums*0.8)\n",
    "valid_num = int(nums*0.2)"
   ]
  },
  {
   "cell_type": "markdown",
   "metadata": {},
   "source": [
    "## 如果有test"
   ]
  },
  {
   "cell_type": "code",
   "execution_count": null,
   "metadata": {},
   "outputs": [],
   "source": [
    "df_train = df.iloc[:train_num, :]\n",
    "df_valid = df.iloc[train_num:train_num+valid_num, :]\n",
    "df_test = df.iloc[train_num+valid_num:, :]"
   ]
  },
  {
   "cell_type": "markdown",
   "metadata": {},
   "source": [
    "## 如果没有test"
   ]
  },
  {
   "cell_type": "code",
   "execution_count": null,
   "metadata": {},
   "outputs": [],
   "source": [
    "df_train = df.iloc[:train_num, :]\n",
    "df_valid = df.iloc[train_num:, :]"
   ]
  },
  {
   "cell_type": "code",
   "execution_count": null,
   "metadata": {},
   "outputs": [],
   "source": [
    "len(df_train), len(df_valid)"
   ]
  },
  {
   "cell_type": "code",
   "execution_count": null,
   "metadata": {},
   "outputs": [],
   "source": [
    "df_train.head()"
   ]
  },
  {
   "cell_type": "code",
   "execution_count": null,
   "metadata": {},
   "outputs": [],
   "source": [
    "data_csv_dir = os.path.join(data_root_dir,\n",
    "                           'CSVs', data_name)\n",
    "if not os.path.exists(data_csv_dir):\n",
    "    os.makedirs(data_csv_dir)"
   ]
  },
  {
   "cell_type": "code",
   "execution_count": null,
   "metadata": {},
   "outputs": [],
   "source": [
    "save_csv = lambda df, phase: df.to_csv(\n",
    "            f'{data_root_dir}/CSVs/{data_name}/{phase}.csv', index=False\n",
    ")"
   ]
  },
  {
   "cell_type": "code",
   "execution_count": null,
   "metadata": {},
   "outputs": [],
   "source": [
    "if not has_path('CSVs/'+data_name):\n",
    "    os.makedirs('CSVs/'+data_name)\n",
    "save_csv(df_train, 'train')\n",
    "save_csv(df_valid, 'valid')\n",
    "# save_csv(df_test, 'test')"
   ]
  },
  {
   "cell_type": "markdown",
   "metadata": {},
   "source": [
    "# 生成 test csv"
   ]
  },
  {
   "cell_type": "code",
   "execution_count": 10,
   "metadata": {},
   "outputs": [],
   "source": [
    "from glob import glob"
   ]
  },
  {
   "cell_type": "code",
   "execution_count": 11,
   "metadata": {},
   "outputs": [],
   "source": [
    "img_path = f'{data_root_dir}/DataSets/{data_name}/test_images/*.jpg'"
   ]
  },
  {
   "cell_type": "code",
   "execution_count": 12,
   "metadata": {},
   "outputs": [
    {
     "data": {
      "text/plain": [
       "3698"
      ]
     },
     "execution_count": 12,
     "metadata": {},
     "output_type": "execute_result"
    }
   ],
   "source": [
    "imgs = glob(img_path)\n",
    "len(imgs)"
   ]
  },
  {
   "cell_type": "code",
   "execution_count": 14,
   "metadata": {},
   "outputs": [
    {
     "name": "stdout",
     "output_type": "stream",
     "text": [
      "如果只输出这一句话， info dataframe 是正确的\n"
     ]
    }
   ],
   "source": [
    "items = []\n",
    "for img in imgs:\n",
    "    # img_name = '_'.join(img.split('_')[:-1]) # MIT1003\n",
    "    img_name = img.split('.')[0]\n",
    "    \n",
    "    cur_img_path = os.path.join(img_path, img_name+'.jpg')\n",
    "    \n",
    "    ## 检查拼接的路径\n",
    "    if not has_path(cur_img_path):\n",
    "        print(cur_img_path)\n",
    "        continue\n",
    " \n",
    "    change = lambda x: '/'.join(x.split('/')[len(data_root_dir.split('/')):])\n",
    "    \n",
    "    cur_img_path = change(cur_img_path)\n",
    "    \n",
    "    items.append(\n",
    "        [cur_img_path]\n",
    "    )\n",
    "print('如果只输出这一句话， info dataframe 是正确的')"
   ]
  },
  {
   "cell_type": "code",
   "execution_count": 15,
   "metadata": {},
   "outputs": [
    {
     "name": "stdout",
     "output_type": "stream",
     "text": [
      "如果只输出这一句话， info dataframe 是正确的\n"
     ]
    }
   ],
   "source": [
    "for i in range(len(items)):\n",
    "    for j in range(len(items[i])):\n",
    "        if not has_path(os.path.join(\n",
    "            data_root_dir, items[i][j]\n",
    "        )):\n",
    "            print(items[i][j])\n",
    "print('如果只输出这一句话， info dataframe 是正确的')"
   ]
  },
  {
   "cell_type": "code",
   "execution_count": 16,
   "metadata": {},
   "outputs": [
    {
     "data": {
      "text/plain": [
       "'DataSets/understanding_cloud_organization/test_images/002f507.jpg'"
      ]
     },
     "execution_count": 16,
     "metadata": {},
     "output_type": "execute_result"
    }
   ],
   "source": [
    "items[0][0]"
   ]
  },
  {
   "cell_type": "code",
   "execution_count": 18,
   "metadata": {},
   "outputs": [
    {
     "data": {
      "text/html": [
       "<div>\n",
       "<style scoped>\n",
       "    .dataframe tbody tr th:only-of-type {\n",
       "        vertical-align: middle;\n",
       "    }\n",
       "\n",
       "    .dataframe tbody tr th {\n",
       "        vertical-align: top;\n",
       "    }\n",
       "\n",
       "    .dataframe thead th {\n",
       "        text-align: right;\n",
       "    }\n",
       "</style>\n",
       "<table border=\"1\" class=\"dataframe\">\n",
       "  <thead>\n",
       "    <tr style=\"text-align: right;\">\n",
       "      <th></th>\n",
       "      <th>img</th>\n",
       "    </tr>\n",
       "  </thead>\n",
       "  <tbody>\n",
       "    <tr>\n",
       "      <th>0</th>\n",
       "      <td>DataSets/understanding_cloud_organization/test...</td>\n",
       "    </tr>\n",
       "    <tr>\n",
       "      <th>1</th>\n",
       "      <td>DataSets/understanding_cloud_organization/test...</td>\n",
       "    </tr>\n",
       "    <tr>\n",
       "      <th>2</th>\n",
       "      <td>DataSets/understanding_cloud_organization/test...</td>\n",
       "    </tr>\n",
       "    <tr>\n",
       "      <th>3</th>\n",
       "      <td>DataSets/understanding_cloud_organization/test...</td>\n",
       "    </tr>\n",
       "    <tr>\n",
       "      <th>4</th>\n",
       "      <td>DataSets/understanding_cloud_organization/test...</td>\n",
       "    </tr>\n",
       "  </tbody>\n",
       "</table>\n",
       "</div>"
      ],
      "text/plain": [
       "                                                 img\n",
       "0  DataSets/understanding_cloud_organization/test...\n",
       "1  DataSets/understanding_cloud_organization/test...\n",
       "2  DataSets/understanding_cloud_organization/test...\n",
       "3  DataSets/understanding_cloud_organization/test...\n",
       "4  DataSets/understanding_cloud_organization/test..."
      ]
     },
     "execution_count": 18,
     "metadata": {},
     "output_type": "execute_result"
    }
   ],
   "source": [
    "df = pd.DataFrame(items, columns=['img'])\n",
    "df.head()"
   ]
  },
  {
   "cell_type": "code",
   "execution_count": 19,
   "metadata": {},
   "outputs": [],
   "source": [
    "save_csv = lambda df, phase: df.to_csv(\n",
    "            f'{data_root_dir}/CSVs/{data_name}/{phase}.csv', index=False\n",
    ")"
   ]
  },
  {
   "cell_type": "code",
   "execution_count": 20,
   "metadata": {},
   "outputs": [],
   "source": [
    "if not has_path('CSVs/'+data_name):\n",
    "    os.makedirs('CSVs/'+data_name)\n",
    "save_csv(df, 'test')"
   ]
  },
  {
   "cell_type": "code",
   "execution_count": null,
   "metadata": {},
   "outputs": [],
   "source": []
  }
 ],
 "metadata": {
  "kernelspec": {
   "display_name": "Python 3",
   "language": "python",
   "name": "python3"
  },
  "language_info": {
   "codemirror_mode": {
    "name": "ipython",
    "version": 3
   },
   "file_extension": ".py",
   "mimetype": "text/x-python",
   "name": "python",
   "nbconvert_exporter": "python",
   "pygments_lexer": "ipython3",
   "version": "3.7.3"
  },
  "toc": {
   "base_numbering": 1,
   "nav_menu": {},
   "number_sections": true,
   "sideBar": true,
   "skip_h1_title": false,
   "title_cell": "Table of Contents",
   "title_sidebar": "Contents",
   "toc_cell": false,
   "toc_position": {},
   "toc_section_display": true,
   "toc_window_display": true
  }
 },
 "nbformat": 4,
 "nbformat_minor": 2
}
