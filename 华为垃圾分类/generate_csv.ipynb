{
 "cells": [
  {
   "cell_type": "markdown",
   "metadata": {},
   "source": [
    "## 移动文件整理如下格式\n",
    "- label0\n",
    "    - image.jpg\n",
    "    - image.jpg\n",
    "    - ...\n",
    "- label1\n",
    "    - image.jpg\n",
    "    - image.jpg\n",
    "- ...."
   ]
  },
  {
   "cell_type": "code",
   "execution_count": 61,
   "metadata": {},
   "outputs": [],
   "source": [
    "import pandas as pd\n",
    "import numpy as np\n",
    "import os\n",
    "import random\n",
    "from glob import glob\n",
    "import json\n",
    "import shutil"
   ]
  },
  {
   "cell_type": "code",
   "execution_count": 2,
   "metadata": {},
   "outputs": [],
   "source": [
    "has_path=os.path.exists\n",
    "data_root_dir='/home/hanshan/Data/temp/garbage_classify'"
   ]
  },
  {
   "cell_type": "code",
   "execution_count": 3,
   "metadata": {},
   "outputs": [
    {
     "data": {
      "text/plain": [
       "True"
      ]
     },
     "execution_count": 3,
     "metadata": {},
     "output_type": "execute_result"
    }
   ],
   "source": [
    "train_img_path = os.path.join(data_root_dir, 'train_data')\n",
    "has_path(train_img_path)"
   ]
  },
  {
   "cell_type": "code",
   "execution_count": 5,
   "metadata": {},
   "outputs": [
    {
     "data": {
      "text/plain": [
       "True"
      ]
     },
     "execution_count": 5,
     "metadata": {},
     "output_type": "execute_result"
    }
   ],
   "source": [
    "label_path = os.path.join(data_root_dir, 'garbage_classify_rule.json')\n",
    "has_path(label_path)"
   ]
  },
  {
   "cell_type": "code",
   "execution_count": 27,
   "metadata": {},
   "outputs": [],
   "source": [
    "with open(label_path) as f:\n",
    "    id2label = json.load(f)"
   ]
  },
  {
   "cell_type": "code",
   "execution_count": 28,
   "metadata": {
    "scrolled": true
   },
   "outputs": [
    {
     "data": {
      "text/plain": [
       "{'0': '其他垃圾/一次性快餐盒',\n",
       " '1': '其他垃圾/污损塑料',\n",
       " '2': '其他垃圾/烟蒂',\n",
       " '3': '其他垃圾/牙签',\n",
       " '4': '其他垃圾/破碎花盆及碟碗',\n",
       " '5': '其他垃圾/竹筷',\n",
       " '6': '厨余垃圾/剩饭剩菜',\n",
       " '7': '厨余垃圾/大骨头',\n",
       " '8': '厨余垃圾/水果果皮',\n",
       " '9': '厨余垃圾/水果果肉',\n",
       " '10': '厨余垃圾/茶叶渣',\n",
       " '11': '厨余垃圾/菜叶菜根',\n",
       " '12': '厨余垃圾/蛋壳',\n",
       " '13': '厨余垃圾/鱼骨',\n",
       " '14': '可回收物/充电宝',\n",
       " '15': '可回收物/包',\n",
       " '16': '可回收物/化妆品瓶',\n",
       " '17': '可回收物/塑料玩具',\n",
       " '18': '可回收物/塑料碗盆',\n",
       " '19': '可回收物/塑料衣架',\n",
       " '20': '可回收物/快递纸袋',\n",
       " '21': '可回收物/插头电线',\n",
       " '22': '可回收物/旧衣服',\n",
       " '23': '可回收物/易拉罐',\n",
       " '24': '可回收物/枕头',\n",
       " '25': '可回收物/毛绒玩具',\n",
       " '26': '可回收物/洗发水瓶',\n",
       " '27': '可回收物/玻璃杯',\n",
       " '28': '可回收物/皮鞋',\n",
       " '29': '可回收物/砧板',\n",
       " '30': '可回收物/纸板箱',\n",
       " '31': '可回收物/调料瓶',\n",
       " '32': '可回收物/酒瓶',\n",
       " '33': '可回收物/金属食品罐',\n",
       " '34': '可回收物/锅',\n",
       " '35': '可回收物/食用油桶',\n",
       " '36': '可回收物/饮料瓶',\n",
       " '37': '有害垃圾/干电池',\n",
       " '38': '有害垃圾/软膏',\n",
       " '39': '有害垃圾/过期药物'}"
      ]
     },
     "execution_count": 28,
     "metadata": {},
     "output_type": "execute_result"
    }
   ],
   "source": [
    "id2label"
   ]
  },
  {
   "cell_type": "code",
   "execution_count": 29,
   "metadata": {},
   "outputs": [],
   "source": [
    "tmp = id2label\n",
    "id2label = dict()"
   ]
  },
  {
   "cell_type": "code",
   "execution_count": 45,
   "metadata": {},
   "outputs": [],
   "source": [
    "for k,v in tmp.items():\n",
    "    id2label[int(k)] = \"%02d-%s\" % (int(k), v.replace('/', '-'))"
   ]
  },
  {
   "cell_type": "code",
   "execution_count": 46,
   "metadata": {
    "scrolled": true
   },
   "outputs": [
    {
     "data": {
      "text/plain": [
       "{0: '00-其他垃圾-一次性快餐盒',\n",
       " 1: '01-其他垃圾-污损塑料',\n",
       " 2: '02-其他垃圾-烟蒂',\n",
       " 3: '03-其他垃圾-牙签',\n",
       " 4: '04-其他垃圾-破碎花盆及碟碗',\n",
       " 5: '05-其他垃圾-竹筷',\n",
       " 6: '06-厨余垃圾-剩饭剩菜',\n",
       " 7: '07-厨余垃圾-大骨头',\n",
       " 8: '08-厨余垃圾-水果果皮',\n",
       " 9: '09-厨余垃圾-水果果肉',\n",
       " 10: '10-厨余垃圾-茶叶渣',\n",
       " 11: '11-厨余垃圾-菜叶菜根',\n",
       " 12: '12-厨余垃圾-蛋壳',\n",
       " 13: '13-厨余垃圾-鱼骨',\n",
       " 14: '14-可回收物-充电宝',\n",
       " 15: '15-可回收物-包',\n",
       " 16: '16-可回收物-化妆品瓶',\n",
       " 17: '17-可回收物-塑料玩具',\n",
       " 18: '18-可回收物-塑料碗盆',\n",
       " 19: '19-可回收物-塑料衣架',\n",
       " 20: '20-可回收物-快递纸袋',\n",
       " 21: '21-可回收物-插头电线',\n",
       " 22: '22-可回收物-旧衣服',\n",
       " 23: '23-可回收物-易拉罐',\n",
       " 24: '24-可回收物-枕头',\n",
       " 25: '25-可回收物-毛绒玩具',\n",
       " 26: '26-可回收物-洗发水瓶',\n",
       " 27: '27-可回收物-玻璃杯',\n",
       " 28: '28-可回收物-皮鞋',\n",
       " 29: '29-可回收物-砧板',\n",
       " 30: '30-可回收物-纸板箱',\n",
       " 31: '31-可回收物-调料瓶',\n",
       " 32: '32-可回收物-酒瓶',\n",
       " 33: '33-可回收物-金属食品罐',\n",
       " 34: '34-可回收物-锅',\n",
       " 35: '35-可回收物-食用油桶',\n",
       " 36: '36-可回收物-饮料瓶',\n",
       " 37: '37-有害垃圾-干电池',\n",
       " 38: '38-有害垃圾-软膏',\n",
       " 39: '39-有害垃圾-过期药物'}"
      ]
     },
     "execution_count": 46,
     "metadata": {},
     "output_type": "execute_result"
    }
   ],
   "source": [
    "id2label"
   ]
  },
  {
   "cell_type": "code",
   "execution_count": 49,
   "metadata": {},
   "outputs": [
    {
     "data": {
      "text/plain": [
       "40"
      ]
     },
     "execution_count": 49,
     "metadata": {},
     "output_type": "execute_result"
    }
   ],
   "source": [
    "S = set(id2label.values())\n",
    "len(S)"
   ]
  },
  {
   "cell_type": "code",
   "execution_count": 50,
   "metadata": {
    "collapsed": true
   },
   "outputs": [
    {
     "data": {
      "text/plain": [
       "{'00-其他垃圾-一次性快餐盒',\n",
       " '01-其他垃圾-污损塑料',\n",
       " '02-其他垃圾-烟蒂',\n",
       " '03-其他垃圾-牙签',\n",
       " '04-其他垃圾-破碎花盆及碟碗',\n",
       " '05-其他垃圾-竹筷',\n",
       " '06-厨余垃圾-剩饭剩菜',\n",
       " '07-厨余垃圾-大骨头',\n",
       " '08-厨余垃圾-水果果皮',\n",
       " '09-厨余垃圾-水果果肉',\n",
       " '10-厨余垃圾-茶叶渣',\n",
       " '11-厨余垃圾-菜叶菜根',\n",
       " '12-厨余垃圾-蛋壳',\n",
       " '13-厨余垃圾-鱼骨',\n",
       " '14-可回收物-充电宝',\n",
       " '15-可回收物-包',\n",
       " '16-可回收物-化妆品瓶',\n",
       " '17-可回收物-塑料玩具',\n",
       " '18-可回收物-塑料碗盆',\n",
       " '19-可回收物-塑料衣架',\n",
       " '20-可回收物-快递纸袋',\n",
       " '21-可回收物-插头电线',\n",
       " '22-可回收物-旧衣服',\n",
       " '23-可回收物-易拉罐',\n",
       " '24-可回收物-枕头',\n",
       " '25-可回收物-毛绒玩具',\n",
       " '26-可回收物-洗发水瓶',\n",
       " '27-可回收物-玻璃杯',\n",
       " '28-可回收物-皮鞋',\n",
       " '29-可回收物-砧板',\n",
       " '30-可回收物-纸板箱',\n",
       " '31-可回收物-调料瓶',\n",
       " '32-可回收物-酒瓶',\n",
       " '33-可回收物-金属食品罐',\n",
       " '34-可回收物-锅',\n",
       " '35-可回收物-食用油桶',\n",
       " '36-可回收物-饮料瓶',\n",
       " '37-有害垃圾-干电池',\n",
       " '38-有害垃圾-软膏',\n",
       " '39-有害垃圾-过期药物'}"
      ]
     },
     "execution_count": 50,
     "metadata": {},
     "output_type": "execute_result"
    }
   ],
   "source": [
    "S"
   ]
  },
  {
   "cell_type": "code",
   "execution_count": 23,
   "metadata": {},
   "outputs": [
    {
     "data": {
      "text/plain": [
       "14802"
      ]
     },
     "execution_count": 23,
     "metadata": {},
     "output_type": "execute_result"
    }
   ],
   "source": [
    "img_paths = glob(f'{train_img_path}/*.jpg')\n",
    "len(img_paths)"
   ]
  },
  {
   "cell_type": "code",
   "execution_count": 24,
   "metadata": {},
   "outputs": [
    {
     "data": {
      "text/plain": [
       "14802"
      ]
     },
     "execution_count": 24,
     "metadata": {},
     "output_type": "execute_result"
    }
   ],
   "source": [
    "txt_paths = glob(f'{train_img_path}/*.txt')\n",
    "len(txt_paths)"
   ]
  },
  {
   "cell_type": "code",
   "execution_count": 47,
   "metadata": {},
   "outputs": [],
   "source": [
    "dst_dir = '/home/hanshan/Data/DataCV/DataSets'\n",
    "data_name = 'huawei-garbage-classification'\n",
    "dataset_dir = os.path.join(dst_dir, data_name)"
   ]
  },
  {
   "cell_type": "code",
   "execution_count": 51,
   "metadata": {},
   "outputs": [],
   "source": [
    "for cur_label in S:\n",
    "    cur_path = os.path.join(dataset_dir, cur_label)\n",
    "    if not has_path(cur_path):\n",
    "        os.makedirs(cur_path)\n",
    "        "
   ]
  },
  {
   "cell_type": "code",
   "execution_count": 63,
   "metadata": {},
   "outputs": [],
   "source": [
    "items = []"
   ]
  },
  {
   "cell_type": "code",
   "execution_count": 64,
   "metadata": {},
   "outputs": [],
   "source": [
    "for img_path in img_paths:\n",
    "    cur_txt_path = img_path.replace('jpg', 'txt')\n",
    "    with open(cur_txt_path) as f:\n",
    "        cur_id = f.readlines()\n",
    "        cur_id = cur_id[0].split(',')[-1]\n",
    "        cur_id = int(cur_id)\n",
    "        cur_label = id2label[cur_id]\n",
    "        cur_dir = os.path.join(dataset_dir, cur_label)\n",
    "        info_dir = f\"DataSets/{data_name}/{cur_label}/{img_path.split('/')[-1]}\"\n",
    "        items.append([info_dir, cur_id, cur_label])\n",
    "        # shutil.copy(img_path, cur_dir)\n",
    "        "
   ]
  },
  {
   "cell_type": "code",
   "execution_count": 65,
   "metadata": {},
   "outputs": [
    {
     "data": {
      "text/plain": [
       "14802"
      ]
     },
     "execution_count": 65,
     "metadata": {},
     "output_type": "execute_result"
    }
   ],
   "source": [
    "len(items)"
   ]
  },
  {
   "cell_type": "code",
   "execution_count": 66,
   "metadata": {},
   "outputs": [],
   "source": [
    "df = pd.DataFrame(items, columns=['img', 'label', 'label_info'])"
   ]
  },
  {
   "cell_type": "code",
   "execution_count": 67,
   "metadata": {},
   "outputs": [
    {
     "data": {
      "text/html": [
       "<div>\n",
       "<style scoped>\n",
       "    .dataframe tbody tr th:only-of-type {\n",
       "        vertical-align: middle;\n",
       "    }\n",
       "\n",
       "    .dataframe tbody tr th {\n",
       "        vertical-align: top;\n",
       "    }\n",
       "\n",
       "    .dataframe thead th {\n",
       "        text-align: right;\n",
       "    }\n",
       "</style>\n",
       "<table border=\"1\" class=\"dataframe\">\n",
       "  <thead>\n",
       "    <tr style=\"text-align: right;\">\n",
       "      <th></th>\n",
       "      <th>img</th>\n",
       "      <th>label</th>\n",
       "      <th>label_info</th>\n",
       "    </tr>\n",
       "  </thead>\n",
       "  <tbody>\n",
       "    <tr>\n",
       "      <th>0</th>\n",
       "      <td>DataSets/huawei-garbage-classification/00-其他垃圾...</td>\n",
       "      <td>0</td>\n",
       "      <td>00-其他垃圾-一次性快餐盒</td>\n",
       "    </tr>\n",
       "    <tr>\n",
       "      <th>1</th>\n",
       "      <td>DataSets/huawei-garbage-classification/00-其他垃圾...</td>\n",
       "      <td>0</td>\n",
       "      <td>00-其他垃圾-一次性快餐盒</td>\n",
       "    </tr>\n",
       "    <tr>\n",
       "      <th>2</th>\n",
       "      <td>DataSets/huawei-garbage-classification/00-其他垃圾...</td>\n",
       "      <td>0</td>\n",
       "      <td>00-其他垃圾-一次性快餐盒</td>\n",
       "    </tr>\n",
       "    <tr>\n",
       "      <th>3</th>\n",
       "      <td>DataSets/huawei-garbage-classification/02-其他垃圾...</td>\n",
       "      <td>2</td>\n",
       "      <td>02-其他垃圾-烟蒂</td>\n",
       "    </tr>\n",
       "    <tr>\n",
       "      <th>4</th>\n",
       "      <td>DataSets/huawei-garbage-classification/21-可回收物...</td>\n",
       "      <td>21</td>\n",
       "      <td>21-可回收物-插头电线</td>\n",
       "    </tr>\n",
       "  </tbody>\n",
       "</table>\n",
       "</div>"
      ],
      "text/plain": [
       "                                                 img  label      label_info\n",
       "0  DataSets/huawei-garbage-classification/00-其他垃圾...      0  00-其他垃圾-一次性快餐盒\n",
       "1  DataSets/huawei-garbage-classification/00-其他垃圾...      0  00-其他垃圾-一次性快餐盒\n",
       "2  DataSets/huawei-garbage-classification/00-其他垃圾...      0  00-其他垃圾-一次性快餐盒\n",
       "3  DataSets/huawei-garbage-classification/02-其他垃圾...      2      02-其他垃圾-烟蒂\n",
       "4  DataSets/huawei-garbage-classification/21-可回收物...     21    21-可回收物-插头电线"
      ]
     },
     "execution_count": 67,
     "metadata": {},
     "output_type": "execute_result"
    }
   ],
   "source": [
    "df.head()"
   ]
  },
  {
   "cell_type": "code",
   "execution_count": 68,
   "metadata": {},
   "outputs": [],
   "source": [
    "df.to_csv(f'{dataset_dir}/info.csv', index=False)"
   ]
  },
  {
   "cell_type": "code",
   "execution_count": 20,
   "metadata": {},
   "outputs": [
    {
     "data": {
      "text/plain": [
       "(False, '/Volumes/data2/competition/DataSets/huawei/info.csv')"
      ]
     },
     "execution_count": 20,
     "metadata": {},
     "output_type": "execute_result"
    }
   ],
   "source": [
    "has_path(info_path), info_path"
   ]
  },
  {
   "cell_type": "markdown",
   "metadata": {},
   "source": [
    "**img 路径**"
   ]
  },
  {
   "cell_type": "code",
   "execution_count": 21,
   "metadata": {},
   "outputs": [],
   "source": [
    "img_path = data_root_dir + 'DataSets/{}/{}'.format(\n",
    "    data_name, 'imgs')"
   ]
  },
  {
   "cell_type": "code",
   "execution_count": 22,
   "metadata": {},
   "outputs": [
    {
     "data": {
      "text/plain": [
       "(True, '/Volumes/data2/competition/DataSets/huawei/imgs')"
      ]
     },
     "execution_count": 22,
     "metadata": {},
     "output_type": "execute_result"
    }
   ],
   "source": [
    "has_path(img_path), img_path"
   ]
  },
  {
   "cell_type": "markdown",
   "metadata": {},
   "source": [
    "# 1 生成 info 文件"
   ]
  },
  {
   "cell_type": "markdown",
   "metadata": {},
   "source": [
    "### 获得所有图片的名字"
   ]
  },
  {
   "cell_type": "code",
   "execution_count": 23,
   "metadata": {},
   "outputs": [],
   "source": [
    "imgs = glob(os.path.join(img_path, '*/*.jpg'))"
   ]
  },
  {
   "cell_type": "code",
   "execution_count": 24,
   "metadata": {},
   "outputs": [
    {
     "data": {
      "text/plain": [
       "3731"
      ]
     },
     "execution_count": 24,
     "metadata": {},
     "output_type": "execute_result"
    }
   ],
   "source": [
    "len(imgs)"
   ]
  },
  {
   "cell_type": "markdown",
   "metadata": {},
   "source": [
    "## 拼接 img, label , info"
   ]
  },
  {
   "cell_type": "code",
   "execution_count": 25,
   "metadata": {},
   "outputs": [
    {
     "name": "stdout",
     "output_type": "stream",
     "text": [
      "如果只输出这一句话， info dataframe 是正确的\n"
     ]
    }
   ],
   "source": [
    "items = []\n",
    "for img in imgs:\n",
    "    # img_name = '_'.join(img.split('_')[:-1]) # MIT1003\n",
    "    img_name = img.split('/')[-1]\n",
    "    info = img.split('/')[-2]\n",
    "    \n",
    "    cur_img_path = os.path.join(img_path, info, img_name)\n",
    "    label = int(info.split('-')[0])\n",
    "    ## 检查拼接的路径\n",
    "    if not has_path(cur_img_path):\n",
    "        print(cur_img_path)\n",
    "        continue\n",
    "    \n",
    "    change = lambda x: '/'.join(x.split('/')[len(data_root_dir.split('/'))-1:])\n",
    "    \n",
    "    cur_img_path = change(cur_img_path)\n",
    "    \n",
    "    items.append(\n",
    "        [cur_img_path, label, info]\n",
    "    )\n",
    "print('如果只输出这一句话， info dataframe 是正确的')"
   ]
  },
  {
   "cell_type": "markdown",
   "metadata": {},
   "source": [
    "# 2 检查生成的路径"
   ]
  },
  {
   "cell_type": "code",
   "execution_count": 26,
   "metadata": {},
   "outputs": [
    {
     "data": {
      "text/plain": [
       "['DataSets/huawei/imgs/00-工艺品-仿唐三彩/img_1.jpg', 0, '00-工艺品-仿唐三彩']"
      ]
     },
     "execution_count": 26,
     "metadata": {},
     "output_type": "execute_result"
    }
   ],
   "source": [
    "items[0]"
   ]
  },
  {
   "cell_type": "code",
   "execution_count": 27,
   "metadata": {},
   "outputs": [
    {
     "name": "stdout",
     "output_type": "stream",
     "text": [
      "如果只输出这一句话， info dataframe 是正确的\n"
     ]
    }
   ],
   "source": [
    "for i in range(len(items)):\n",
    "    for j in range(1):\n",
    "        if not has_path(os.path.join(\n",
    "            data_root_dir, items[i][j]\n",
    "        )):\n",
    "            print(items[i][j])\n",
    "print('如果只输出这一句话， info dataframe 是正确的')"
   ]
  },
  {
   "cell_type": "code",
   "execution_count": 28,
   "metadata": {},
   "outputs": [],
   "source": [
    "df = pd.DataFrame(items, columns=['img', 'label', 'info'])"
   ]
  },
  {
   "cell_type": "code",
   "execution_count": 29,
   "metadata": {},
   "outputs": [
    {
     "data": {
      "text/html": [
       "<div>\n",
       "<style scoped>\n",
       "    .dataframe tbody tr th:only-of-type {\n",
       "        vertical-align: middle;\n",
       "    }\n",
       "\n",
       "    .dataframe tbody tr th {\n",
       "        vertical-align: top;\n",
       "    }\n",
       "\n",
       "    .dataframe thead th {\n",
       "        text-align: right;\n",
       "    }\n",
       "</style>\n",
       "<table border=\"1\" class=\"dataframe\">\n",
       "  <thead>\n",
       "    <tr style=\"text-align: right;\">\n",
       "      <th></th>\n",
       "      <th>img</th>\n",
       "      <th>label</th>\n",
       "      <th>info</th>\n",
       "    </tr>\n",
       "  </thead>\n",
       "  <tbody>\n",
       "    <tr>\n",
       "      <td>0</td>\n",
       "      <td>DataSets/huawei/imgs/00-工艺品-仿唐三彩/img_1.jpg</td>\n",
       "      <td>0</td>\n",
       "      <td>00-工艺品-仿唐三彩</td>\n",
       "    </tr>\n",
       "    <tr>\n",
       "      <td>1</td>\n",
       "      <td>DataSets/huawei/imgs/00-工艺品-仿唐三彩/img_11.jpg</td>\n",
       "      <td>0</td>\n",
       "      <td>00-工艺品-仿唐三彩</td>\n",
       "    </tr>\n",
       "    <tr>\n",
       "      <td>2</td>\n",
       "      <td>DataSets/huawei/imgs/00-工艺品-仿唐三彩/img_12.jpg</td>\n",
       "      <td>0</td>\n",
       "      <td>00-工艺品-仿唐三彩</td>\n",
       "    </tr>\n",
       "    <tr>\n",
       "      <td>3</td>\n",
       "      <td>DataSets/huawei/imgs/00-工艺品-仿唐三彩/img_13.jpg</td>\n",
       "      <td>0</td>\n",
       "      <td>00-工艺品-仿唐三彩</td>\n",
       "    </tr>\n",
       "    <tr>\n",
       "      <td>4</td>\n",
       "      <td>DataSets/huawei/imgs/00-工艺品-仿唐三彩/img_14.jpg</td>\n",
       "      <td>0</td>\n",
       "      <td>00-工艺品-仿唐三彩</td>\n",
       "    </tr>\n",
       "  </tbody>\n",
       "</table>\n",
       "</div>"
      ],
      "text/plain": [
       "                                           img  label         info\n",
       "0   DataSets/huawei/imgs/00-工艺品-仿唐三彩/img_1.jpg      0  00-工艺品-仿唐三彩\n",
       "1  DataSets/huawei/imgs/00-工艺品-仿唐三彩/img_11.jpg      0  00-工艺品-仿唐三彩\n",
       "2  DataSets/huawei/imgs/00-工艺品-仿唐三彩/img_12.jpg      0  00-工艺品-仿唐三彩\n",
       "3  DataSets/huawei/imgs/00-工艺品-仿唐三彩/img_13.jpg      0  00-工艺品-仿唐三彩\n",
       "4  DataSets/huawei/imgs/00-工艺品-仿唐三彩/img_14.jpg      0  00-工艺品-仿唐三彩"
      ]
     },
     "execution_count": 29,
     "metadata": {},
     "output_type": "execute_result"
    }
   ],
   "source": [
    "df.head()"
   ]
  },
  {
   "cell_type": "code",
   "execution_count": 30,
   "metadata": {},
   "outputs": [],
   "source": [
    "df.to_csv(info_path, index=False)"
   ]
  },
  {
   "cell_type": "markdown",
   "metadata": {},
   "source": [
    "# 3 生成  train valid test csv"
   ]
  },
  {
   "cell_type": "code",
   "execution_count": null,
   "metadata": {},
   "outputs": [],
   "source": [
    "df = pd.read_csv(info_path)\n",
    "df.head()"
   ]
  },
  {
   "cell_type": "code",
   "execution_count": null,
   "metadata": {},
   "outputs": [],
   "source": [
    "nums = len(df)\n",
    "shuffle_index = random.sample(range(nums), nums)"
   ]
  },
  {
   "cell_type": "code",
   "execution_count": null,
   "metadata": {},
   "outputs": [],
   "source": [
    "train_num = int(nums*0.8)\n",
    "valid_num = int(nums*0.2)"
   ]
  },
  {
   "cell_type": "code",
   "execution_count": null,
   "metadata": {},
   "outputs": [],
   "source": [
    "df_train = df.iloc[:train_num, :]\n",
    "df_valid = df.iloc[train_num:train_num+valid_num, :]\n",
    "df_test = df.iloc[train_num+valid_num:, :]"
   ]
  },
  {
   "cell_type": "code",
   "execution_count": null,
   "metadata": {},
   "outputs": [],
   "source": [
    "len(df_train), len(df_valid), len(df_test)"
   ]
  },
  {
   "cell_type": "code",
   "execution_count": null,
   "metadata": {},
   "outputs": [],
   "source": [
    "df_train.head()"
   ]
  },
  {
   "cell_type": "code",
   "execution_count": null,
   "metadata": {},
   "outputs": [],
   "source": [
    "data_csv_dir = os.path.join(data_root_dir,\n",
    "                           'CSVs', data_name)\n",
    "if not os.path.exists(data_csv_dir):\n",
    "    os.makedirs(data_csv_dir)"
   ]
  },
  {
   "cell_type": "code",
   "execution_count": null,
   "metadata": {},
   "outputs": [],
   "source": [
    "save_csv = lambda df, phase: df.to_csv(\n",
    "            data_root_dir + 'CSVs/'+data_name+'/'+phase+'.csv', index=False\n",
    ")"
   ]
  },
  {
   "cell_type": "code",
   "execution_count": null,
   "metadata": {},
   "outputs": [],
   "source": [
    "if not has_path('CSVs/'+data_name):\n",
    "    os.makedirs('CSVs/'+data_name)\n",
    "save_csv(df_train, 'train')\n",
    "save_csv(df_valid, 'valid')\n",
    "save_csv(df_test, 'test')"
   ]
  },
  {
   "cell_type": "code",
   "execution_count": null,
   "metadata": {},
   "outputs": [],
   "source": []
  }
 ],
 "metadata": {
  "kernelspec": {
   "display_name": "Python 3",
   "language": "python",
   "name": "python3"
  },
  "language_info": {
   "codemirror_mode": {
    "name": "ipython",
    "version": 3
   },
   "file_extension": ".py",
   "mimetype": "text/x-python",
   "name": "python",
   "nbconvert_exporter": "python",
   "pygments_lexer": "ipython3",
   "version": "3.7.3"
  },
  "toc": {
   "base_numbering": 1,
   "nav_menu": {},
   "number_sections": true,
   "sideBar": true,
   "skip_h1_title": false,
   "title_cell": "Table of Contents",
   "title_sidebar": "Contents",
   "toc_cell": false,
   "toc_position": {
    "height": "calc(100% - 180px)",
    "left": "10px",
    "top": "150px",
    "width": "165px"
   },
   "toc_section_display": true,
   "toc_window_display": true
  }
 },
 "nbformat": 4,
 "nbformat_minor": 2
}
