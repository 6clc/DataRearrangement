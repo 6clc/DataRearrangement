{
 "cells": [
  {
   "cell_type": "code",
   "execution_count": 1,
   "metadata": {},
   "outputs": [],
   "source": [
    "import glob\n",
    "import os\n",
    "from scipy import io as sio\n",
    "import numpy as np\n",
    "from PIL import Image\n",
    "import cv2\n",
    "import shutil\n",
    "from matplotlib import pyplot as plt"
   ]
  },
  {
   "cell_type": "code",
   "execution_count": 2,
   "metadata": {},
   "outputs": [],
   "source": [
    "root_dir = '/home/hanshan/Data/DataCV/tmp/MIT'"
   ]
  },
  {
   "cell_type": "code",
   "execution_count": 3,
   "metadata": {},
   "outputs": [
    {
     "name": "stdout",
     "output_type": "stream",
     "text": [
      "readme.md  test  train\r\n"
     ]
    }
   ],
   "source": [
    "!ls $root_dir"
   ]
  },
  {
   "cell_type": "code",
   "execution_count": 4,
   "metadata": {},
   "outputs": [],
   "source": [
    "root_dir = f'{root_dir}/train'"
   ]
  },
  {
   "cell_type": "code",
   "execution_count": 5,
   "metadata": {},
   "outputs": [],
   "source": [
    "imgs_dir = f'{root_dir}/images'\n",
    "fix_dir = f'{root_dir}/fixation'\n",
    "sal_dir = f'{root_dir}/saliency'\n",
    "od_dir = f'{root_dir}/od'"
   ]
  },
  {
   "cell_type": "code",
   "execution_count": 6,
   "metadata": {},
   "outputs": [
    {
     "data": {
      "text/plain": [
       "True"
      ]
     },
     "execution_count": 6,
     "metadata": {},
     "output_type": "execute_result"
    }
   ],
   "source": [
    "os.path.exists(imgs_dir)"
   ]
  },
  {
   "cell_type": "code",
   "execution_count": 7,
   "metadata": {},
   "outputs": [
    {
     "data": {
      "text/plain": [
       "1003"
      ]
     },
     "execution_count": 7,
     "metadata": {},
     "output_type": "execute_result"
    }
   ],
   "source": [
    "imgs = os.listdir(imgs_dir)\n",
    "len(imgs)"
   ]
  },
  {
   "cell_type": "code",
   "execution_count": 8,
   "metadata": {},
   "outputs": [],
   "source": [
    "for img_name in imgs:\n",
    "    name = img_name.split('.')[0]\n",
    "    fix_name = f'{name}_fixPts.jpg'\n",
    "    sal_name = f'{name}_fixMap.jpg'\n",
    "    \n",
    "    t_img_dir = f'{imgs_dir}/{img_name}'\n",
    "    dst_fix_dir = f'{fix_dir}/{name}.jpg'\n",
    "    dst_sal_dir = f'{sal_dir}/{name}.jpg'\n",
    "    \n",
    "    t_fix_dir = f'{od_dir}/{fix_name}'\n",
    "    t_sal_dir = f'{od_dir}/{sal_name}'\n",
    "    \n",
    "    if not os.path.exists(t_fix_dir) or not os.path.exists(t_sal_dir):\n",
    "        print(\"error\", t_fix_dir)\n",
    "        \n",
    "    shutil.copy2(t_fix_dir, dst_fix_dir)\n",
    "    shutil.copy2(t_sal_dir, dst_sal_dir)"
   ]
  },
  {
   "cell_type": "code",
   "execution_count": null,
   "metadata": {},
   "outputs": [],
   "source": []
  },
  {
   "cell_type": "code",
   "execution_count": null,
   "metadata": {},
   "outputs": [],
   "source": []
  }
 ],
 "metadata": {
  "kernelspec": {
   "display_name": "pytorch",
   "language": "python",
   "name": "pytorch"
  },
  "language_info": {
   "codemirror_mode": {
    "name": "ipython",
    "version": 3
   },
   "file_extension": ".py",
   "mimetype": "text/x-python",
   "name": "python",
   "nbconvert_exporter": "python",
   "pygments_lexer": "ipython3",
   "version": "3.6.9"
  }
 },
 "nbformat": 4,
 "nbformat_minor": 2
}
