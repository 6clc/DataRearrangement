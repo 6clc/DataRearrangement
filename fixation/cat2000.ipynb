{
 "cells": [
  {
   "cell_type": "code",
   "execution_count": 77,
   "metadata": {},
   "outputs": [],
   "source": [
    "import glob\n",
    "import os\n",
    "from scipy import io as sio\n",
    "import numpy as np\n",
    "from PIL import Image\n",
    "import cv2"
   ]
  },
  {
   "cell_type": "code",
   "execution_count": 35,
   "metadata": {},
   "outputs": [],
   "source": [
    "from matplotlib import pyplot as plt"
   ]
  },
  {
   "cell_type": "code",
   "execution_count": 1,
   "metadata": {},
   "outputs": [],
   "source": [
    "train_root_dir = '/home/hanshan/Data/DataCV/tmp/trainSet'\n",
    "test_root_dir = '/home/hanshan/Data/DataCV/tmp/testSet'"
   ]
  },
  {
   "cell_type": "code",
   "execution_count": 3,
   "metadata": {},
   "outputs": [],
   "source": [
    "root_dir = train_root_dir"
   ]
  },
  {
   "cell_type": "code",
   "execution_count": 6,
   "metadata": {},
   "outputs": [],
   "source": [
    "ori_img = os.path.join(root_dir, 'Stimuli')"
   ]
  },
  {
   "cell_type": "code",
   "execution_count": 10,
   "metadata": {},
   "outputs": [
    {
     "data": {
      "text/plain": [
       "['Action',\n",
       " 'Affective',\n",
       " 'Art',\n",
       " 'BlackWhite',\n",
       " 'Cartoon',\n",
       " 'Fractal',\n",
       " 'Indoor',\n",
       " 'Inverted',\n",
       " 'Jumbled',\n",
       " 'LineDrawing',\n",
       " 'LowResolution',\n",
       " 'Noisy',\n",
       " 'Object',\n",
       " 'OutdoorManMade',\n",
       " 'OutdoorNatural',\n",
       " 'Pattern',\n",
       " 'Random',\n",
       " 'Satelite',\n",
       " 'Sketch',\n",
       " 'Social']"
      ]
     },
     "execution_count": 10,
     "metadata": {},
     "output_type": "execute_result"
    }
   ],
   "source": [
    "cate = [item for item in os.listdir(ori_img) if not item.startswith('.')]\n",
    "cate"
   ]
  },
  {
   "cell_type": "code",
   "execution_count": null,
   "metadata": {},
   "outputs": [],
   "source": []
  },
  {
   "cell_type": "code",
   "execution_count": null,
   "metadata": {},
   "outputs": [],
   "source": []
  },
  {
   "cell_type": "code",
   "execution_count": 185,
   "metadata": {},
   "outputs": [],
   "source": [
    "def convert_mat2png(mt_dir, png_dir):\n",
    "    tmp_mt = sio.loadmat(mt_dir)\n",
    "    tmp_fix = tmp_mt['fixLocs']\n",
    "    tmp_fix = np.array(tmp_fix).astype(np.uint8)\n",
    "    # tmp_fix = tmp_fix[0]\n",
    "    img = Image.fromarray(tmp_fix).convert('L')\n",
    "    img.save(png_dir)\n",
    "    "
   ]
  },
  {
   "cell_type": "code",
   "execution_count": 186,
   "metadata": {},
   "outputs": [],
   "source": [
    "fix_mat_dir = '/home/hanshan/Data/DataCV/tmp/trainSet/fixation_mat'\n",
    "fix_dir = '/home/hanshan/Data/DataCV/tmp/trainSet/fixation'"
   ]
  },
  {
   "cell_type": "code",
   "execution_count": 187,
   "metadata": {},
   "outputs": [],
   "source": [
    "if not os.path.exists(fix_dir): os.makedirs(fix_dir)"
   ]
  },
  {
   "cell_type": "code",
   "execution_count": 188,
   "metadata": {
    "scrolled": true
   },
   "outputs": [
    {
     "name": "stdout",
     "output_type": "stream",
     "text": [
      "Action has 100\n",
      "Affective has 100\n",
      "Art has 100\n",
      "BlackWhite has 100\n",
      "Cartoon has 100\n",
      "Fractal has 100\n",
      "Indoor has 100\n",
      "Inverted has 100\n",
      "Jumbled has 100\n",
      "LineDrawing has 100\n",
      "LowResolution has 100\n",
      "Noisy has 100\n",
      "Object has 100\n",
      "OutdoorManMade has 100\n",
      "OutdoorNatural has 100\n",
      "Pattern has 100\n",
      "Random has 100\n",
      "Satelite has 100\n",
      "Sketch has 100\n",
      "Social has 100\n"
     ]
    }
   ],
   "source": [
    "cnt = 0\n",
    "for tmp_cate in cate:\n",
    "    tmp_mt_dir = os.path.join(fix_mat_dir, tmp_cate)\n",
    "    tmp_png_dir = os.path.join(fix_dir, tmp_cate)\n",
    "    mt_fixs = os.listdir(tmp_mt_dir)\n",
    "    \n",
    "    if not os.path.exists(tmp_png_dir):\n",
    "        os.makedirs(tmp_png_dir)\n",
    "    \n",
    "    print(f'{tmp_cate} has {len(mt_fixs)}')\n",
    "    cnt += len(mt_fixs)\n",
    "    \n",
    "    for mt_fix in mt_fixs:\n",
    "        cur_dir = os.path.join(tmp_mt_dir, mt_fix)\n",
    "        # print(cur_dir)\n",
    "        dst_dir = os.path.join(fix_dir, tmp_cate, mt_fix.replace('.mat', '.png'))\n",
    "        convert_mat2png(cur_dir, dst_dir)\n",
    "        # print(dst_dir)\n",
    "        # break\n",
    "    # break"
   ]
  },
  {
   "cell_type": "code",
   "execution_count": 189,
   "metadata": {},
   "outputs": [
    {
     "data": {
      "text/plain": [
       "2000"
      ]
     },
     "execution_count": 189,
     "metadata": {},
     "output_type": "execute_result"
    }
   ],
   "source": [
    "cnt"
   ]
  },
  {
   "cell_type": "markdown",
   "metadata": {},
   "source": [
    "### test mat 文件"
   ]
  },
  {
   "cell_type": "code",
   "execution_count": 140,
   "metadata": {},
   "outputs": [],
   "source": [
    "tmp_dir = '/home/hanshan/Data/DataCV/tmp/trainSet/fixation_mat/Action/001.mat'"
   ]
  },
  {
   "cell_type": "code",
   "execution_count": 141,
   "metadata": {},
   "outputs": [],
   "source": [
    "tmp_mt = sio.loadmat(tmp_dir)\n",
    "tmp_fix = tmp_mt['fixLocs']\n",
    "tmp_fix = np.array(tmp_fix).astype(np.uint8)"
   ]
  },
  {
   "cell_type": "code",
   "execution_count": 142,
   "metadata": {},
   "outputs": [
    {
     "data": {
      "text/plain": [
       "(1080, 1920)"
      ]
     },
     "execution_count": 142,
     "metadata": {},
     "output_type": "execute_result"
    }
   ],
   "source": [
    "tmp_fix.shape"
   ]
  },
  {
   "cell_type": "code",
   "execution_count": 143,
   "metadata": {},
   "outputs": [
    {
     "data": {
      "text/plain": [
       "304"
      ]
     },
     "execution_count": 143,
     "metadata": {},
     "output_type": "execute_result"
    }
   ],
   "source": [
    "np.sum(tmp_fix == 1)"
   ]
  },
  {
   "cell_type": "code",
   "execution_count": 144,
   "metadata": {},
   "outputs": [
    {
     "data": {
      "text/plain": [
       "<matplotlib.image.AxesImage at 0x7f96c38ff898>"
      ]
     },
     "execution_count": 144,
     "metadata": {},
     "output_type": "execute_result"
    },
    {
     "data": {
      "image/png": "[encoded data removed]",
      "text/plain": [
       "<Figure size 432x288 with 1 Axes>"
      ]
     },
     "metadata": {
      "needs_background": "light"
     },
     "output_type": "display_data"
    }
   ],
   "source": [
    "plt.imshow(tmp_fix, cmap='hot')"
   ]
  },
  {
   "cell_type": "code",
   "execution_count": 148,
   "metadata": {},
   "outputs": [],
   "source": []
  },
  {
   "cell_type": "code",
   "execution_count": 172,
   "metadata": {},
   "outputs": [],
   "source": [
    "tmp_dir = '/home/hanshan/Data/DataCV/tmp/trainSet/fixation/Action/011.png'"
   ]
  },
  {
   "cell_type": "code",
   "execution_count": 173,
   "metadata": {},
   "outputs": [],
   "source": [
    "img = Image.open(tmp_dir)"
   ]
  },
  {
   "cell_type": "code",
   "execution_count": 174,
   "metadata": {},
   "outputs": [],
   "source": [
    "img = cv2.imread(tmp_dir, cv2.IMREAD_GRAYSCALE)"
   ]
  },
  {
   "cell_type": "code",
   "execution_count": 175,
   "metadata": {},
   "outputs": [
    {
     "data": {
      "text/plain": [
       "<matplotlib.image.AxesImage at 0x7f96c345f748>"
      ]
     },
     "execution_count": 175,
     "metadata": {},
     "output_type": "execute_result"
    },
    {
     "data": {
      "image/png": "[encoded data removed]",
      "text/plain": [
       "<Figure size 432x288 with 1 Axes>"
      ]
     },
     "metadata": {
      "needs_background": "light"
     },
     "output_type": "display_data"
    }
   ],
   "source": [
    "plt.imshow(img, cmap='hot')"
   ]
  },
  {
   "cell_type": "code",
   "execution_count": null,
   "metadata": {},
   "outputs": [],
   "source": []
  }
 ],
 "metadata": {
  "kernelspec": {
   "display_name": "pytorch",
   "language": "python",
   "name": "pytorch"
  },
  "language_info": {
   "codemirror_mode": {
    "name": "ipython",
    "version": 3
   },
   "file_extension": ".py",
   "mimetype": "text/x-python",
   "name": "python",
   "nbconvert_exporter": "python",
   "pygments_lexer": "ipython3",
   "version": "3.6.9"
  }
 },
 "nbformat": 4,
 "nbformat_minor": 2
}
